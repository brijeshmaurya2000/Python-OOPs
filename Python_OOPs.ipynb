{
  "nbformat": 4,
  "nbformat_minor": 0,
  "metadata": {
    "colab": {
      "provenance": []
    },
    "kernelspec": {
      "name": "python3",
      "display_name": "Python 3"
    },
    "language_info": {
      "name": "python"
    }
  },
  "cells": [
    {
      "cell_type": "markdown",
      "source": [
        "#Python OOPs"
      ],
      "metadata": {
        "id": "sbo1mEmWVo42"
      }
    },
    {
      "cell_type": "markdown",
      "source": [
        "1.What is Object-Oriented Programming (OOP)?\n",
        "\n",
        "   - Object- Oriented Programing (oops) is a programming paradigm that uses    object and classes to stracture.\n",
        "\n",
        "  - Code reusable throw the inheritance\n",
        "  - Modularity\n",
        "  - Easear to mantain and scale\n",
        "  - Real-world modling\n"
      ],
      "metadata": {
        "id": "4bumfWd2Wb4V"
      }
    },
    {
      "cell_type": "markdown",
      "source": [
        "2. What is a class in OOP?\n",
        "\n",
        "  - A class is a bluprint or templet to creating object.\n",
        "\n",
        "  - A class defined the atrribute (variable/data and method(function/behaviour) that its object will have"
      ],
      "metadata": {
        "id": "2Bqiwc0QW8GQ"
      }
    },
    {
      "cell_type": "code",
      "source": [
        "#syntax of class\n",
        "class ClassName:\n",
        "  #constroctor\n",
        "  def __init__(self,atrribut1,attribut2):\n",
        "    self.atrribute1 = atrribut1\n",
        "    self.atrribute2 = attribute2\n",
        "\n",
        "    #method\n",
        "  def greet(self):\n",
        "    print(self.atrribute1,self.atrribute2)"
      ],
      "metadata": {
        "id": "p4t8rtFXWUna"
      },
      "execution_count": 1,
      "outputs": []
    },
    {
      "cell_type": "markdown",
      "source": [
        "3. What is an object in OOP?\n",
        "  - Object is an intance of class. It is the real-world entity created based on the bluprint (class)\n",
        "\n",
        " Example:\n",
        "   - class: Blueprint of a car\n",
        "   - Object: a specific car bult using that blluprint(eg,a red honda c\n",
        "    \n",
        "  If you want creat an object, you're calling the class like a function"
      ],
      "metadata": {
        "id": "Ltbo9HcfdVK0"
      }
    },
    {
      "cell_type": "markdown",
      "source": [
        "4. What is the difference between abstraction and encapsulation?\n",
        "#abstraction\n",
        "    - Abstraction >> concept of hiding complex implementation\n",
        "hiding uneeded detail and exposing the required\n",
        "abstract class can be instantiated(can note make object)\n",
        "abstract class should always be subclass\n",
        "\n",
        "#Encapsulation\n",
        "  - Encapsulation is another fundamental concept of Object-Oriented\n",
        "     Programming (OOP). menas bundling the data (attributes) and the methods\n",
        "      (functions) that operate on the data into a single unit — usually a class\n",
        "       — and restricting direct access to some of the object's components.\n",
        "    "
      ],
      "metadata": {
        "id": "RhZpXacjgjek"
      }
    },
    {
      "cell_type": "markdown",
      "source": [
        "5. What are dunder methods in Python?\n",
        "  - Dunder method/magic/special method are the methods defined by built in  class in python\n",
        "  classes defne these type of method for creating custum objectsmmm\n",
        "  implimenting oprator oveloading in python\n",
        "\n",
        " - Dunder,means,  \n",
        "  d+under\n",
        "  duble underscore>> all the methods surrounding double underscore is a dunder method"
      ],
      "metadata": {
        "id": "vbSOZL1Hki3q"
      }
    },
    {
      "cell_type": "code",
      "source": [
        "# all dunder methods associated with strings\n",
        "dir(str)"
      ],
      "metadata": {
        "colab": {
          "base_uri": "https://localhost:8080/"
        },
        "id": "rbifnsY1liiX",
        "outputId": "1a1621fd-3c3c-4600-b212-0e7350119025"
      },
      "execution_count": 1,
      "outputs": [
        {
          "output_type": "execute_result",
          "data": {
            "text/plain": [
              "['__add__',\n",
              " '__class__',\n",
              " '__contains__',\n",
              " '__delattr__',\n",
              " '__dir__',\n",
              " '__doc__',\n",
              " '__eq__',\n",
              " '__format__',\n",
              " '__ge__',\n",
              " '__getattribute__',\n",
              " '__getitem__',\n",
              " '__getnewargs__',\n",
              " '__getstate__',\n",
              " '__gt__',\n",
              " '__hash__',\n",
              " '__init__',\n",
              " '__init_subclass__',\n",
              " '__iter__',\n",
              " '__le__',\n",
              " '__len__',\n",
              " '__lt__',\n",
              " '__mod__',\n",
              " '__mul__',\n",
              " '__ne__',\n",
              " '__new__',\n",
              " '__reduce__',\n",
              " '__reduce_ex__',\n",
              " '__repr__',\n",
              " '__rmod__',\n",
              " '__rmul__',\n",
              " '__setattr__',\n",
              " '__sizeof__',\n",
              " '__str__',\n",
              " '__subclasshook__',\n",
              " 'capitalize',\n",
              " 'casefold',\n",
              " 'center',\n",
              " 'count',\n",
              " 'encode',\n",
              " 'endswith',\n",
              " 'expandtabs',\n",
              " 'find',\n",
              " 'format',\n",
              " 'format_map',\n",
              " 'index',\n",
              " 'isalnum',\n",
              " 'isalpha',\n",
              " 'isascii',\n",
              " 'isdecimal',\n",
              " 'isdigit',\n",
              " 'isidentifier',\n",
              " 'islower',\n",
              " 'isnumeric',\n",
              " 'isprintable',\n",
              " 'isspace',\n",
              " 'istitle',\n",
              " 'isupper',\n",
              " 'join',\n",
              " 'ljust',\n",
              " 'lower',\n",
              " 'lstrip',\n",
              " 'maketrans',\n",
              " 'partition',\n",
              " 'removeprefix',\n",
              " 'removesuffix',\n",
              " 'replace',\n",
              " 'rfind',\n",
              " 'rindex',\n",
              " 'rjust',\n",
              " 'rpartition',\n",
              " 'rsplit',\n",
              " 'rstrip',\n",
              " 'split',\n",
              " 'splitlines',\n",
              " 'startswith',\n",
              " 'strip',\n",
              " 'swapcase',\n",
              " 'title',\n",
              " 'translate',\n",
              " 'upper',\n",
              " 'zfill']"
            ]
          },
          "metadata": {},
          "execution_count": 1
        }
      ]
    },
    {
      "cell_type": "code",
      "source": [],
      "metadata": {
        "id": "C9lvzK7ki6-T"
      },
      "execution_count": null,
      "outputs": []
    },
    {
      "cell_type": "markdown",
      "source": [
        "6. Explain the concept of inheritance in OOP?\n",
        "\n",
        "#Inheritance\n",
        "   refer to process of child class receiving the property of parent class"
      ],
      "metadata": {
        "id": "rsHE4niXl0C1"
      }
    },
    {
      "cell_type": "code",
      "source": [
        "class father:\n",
        "     def father_property(self):\n",
        "         print(\"this is father property\")"
      ],
      "metadata": {
        "id": "i95OlvhBnH-f"
      },
      "execution_count": 6,
      "outputs": []
    },
    {
      "cell_type": "code",
      "source": [
        "class son(father):\n",
        "    def job(self):\n",
        "        print(\"son has property from job\")"
      ],
      "metadata": {
        "id": "8cno9PqRnSYl"
      },
      "execution_count": 7,
      "outputs": []
    },
    {
      "cell_type": "code",
      "source": [
        "child_obj1=son() #object/intance of son class"
      ],
      "metadata": {
        "id": "HvGWenfInbP7"
      },
      "execution_count": 8,
      "outputs": []
    },
    {
      "cell_type": "code",
      "source": [
        "# a child can have his property and his property\n",
        "child_obj1.job()"
      ],
      "metadata": {
        "colab": {
          "base_uri": "https://localhost:8080/"
        },
        "id": "afrEsb7_ngIG",
        "outputId": "ed6faba6-1454-4565-db83-06f54d7cc36b"
      },
      "execution_count": 9,
      "outputs": [
        {
          "output_type": "stream",
          "name": "stdout",
          "text": [
            "son has property from job\n"
          ]
        }
      ]
    },
    {
      "cell_type": "code",
      "source": [
        "child_obj1.father_property()"
      ],
      "metadata": {
        "colab": {
          "base_uri": "https://localhost:8080/"
        },
        "id": "CaDWHU4Znq6E",
        "outputId": "a5f2f2c9-9286-40b3-ae9f-5070bff3a6e5"
      },
      "execution_count": 10,
      "outputs": [
        {
          "output_type": "stream",
          "name": "stdout",
          "text": [
            "this is father property\n"
          ]
        }
      ]
    },
    {
      "cell_type": "markdown",
      "source": [
        "7. What is polymorphism in OOP?\n",
        "\n",
        "#Polymorphism\n",
        "  - poly means and marphism means form/states\n",
        "  refers to on object taking several forms depending on the method/data\n",
        "\n",
        "  - polymorphism is oops takes place in two ways method overloding>>python doesn't support true method overloding method overriding"
      ],
      "metadata": {
        "id": "CtdK6RISn3Kf"
      }
    },
    {
      "cell_type": "code",
      "source": [
        "#example overloading\n",
        "class Student:\n",
        "    def student(self):\n",
        "        print(\"welcome to the pw class\")\n",
        "    def student(self,name= \"\"):\n",
        "        print(\"welcome to pw class\",name)\n",
        "    def student(self,name= \"\",course= \"\"):\n",
        "        print(\"welcomr to pw class\", name,course)"
      ],
      "metadata": {
        "id": "Y7P8KsfXpIcJ"
      },
      "execution_count": 20,
      "outputs": []
    },
    {
      "cell_type": "code",
      "source": [
        "obj=Student()"
      ],
      "metadata": {
        "id": "bfbyXWn6qGtz"
      },
      "execution_count": 17,
      "outputs": []
    },
    {
      "cell_type": "code",
      "source": [
        "obj.student()"
      ],
      "metadata": {
        "colab": {
          "base_uri": "https://localhost:8080/"
        },
        "id": "4y16WWPCqI1Q",
        "outputId": "3864e775-6e82-4e2f-ee87-389af3f6a00c"
      },
      "execution_count": 18,
      "outputs": [
        {
          "output_type": "stream",
          "name": "stdout",
          "text": [
            "welcomr to pw class  \n"
          ]
        }
      ]
    },
    {
      "cell_type": "code",
      "source": [
        "obj.student(\"sanjay\")"
      ],
      "metadata": {
        "colab": {
          "base_uri": "https://localhost:8080/"
        },
        "id": "MLzCxFtAqPl0",
        "outputId": "6d32c449-0c30-4a30-e3e3-0e763c615a92"
      },
      "execution_count": 19,
      "outputs": [
        {
          "output_type": "stream",
          "name": "stdout",
          "text": [
            "welcomr to pw class sanjay \n"
          ]
        }
      ]
    },
    {
      "cell_type": "markdown",
      "source": [
        "9. How is encapsulation achieved in Python?\n",
        " - Encapsulation is another fundamental concept of Object-Oriented Programming (OOP). It means bundling the data (attributes) and the methods (functions) that operate on the data into a single unit — usually a class — and restricting direct access to some of the object's components.\n",
        "\n",
        " Encapsulation begins by defining a class — which groups together data (attributes) and functions (methods).\n",
        "\n",
        "\n"
      ],
      "metadata": {
        "id": "Jd9NyTa6qw-L"
      }
    },
    {
      "cell_type": "code",
      "source": [
        "class Employee:\n",
        "    def __init__(self, name, salary):\n",
        "        self.name = name\n",
        "        self.salary = salary\n"
      ],
      "metadata": {
        "id": "Qp8fUJG3rnP3"
      },
      "execution_count": 21,
      "outputs": []
    },
    {
      "cell_type": "code",
      "source": [
        "#privet >> the data ethod is only accesab;e within its class ,use __init__to make privecy\n",
        "class Student:\n",
        "    def __init__(self,name,degree):\n",
        "        self.name=name\n",
        "        self.degree=degree\n",
        "\n",
        "    def show(self):\n",
        "    # accesing the privetand pubic dat methods\n",
        "        print (\"name\",self.name, \"degree\",self.degree)"
      ],
      "metadata": {
        "id": "MhlERoidsGIe"
      },
      "execution_count": 22,
      "outputs": []
    },
    {
      "cell_type": "code",
      "source": [
        "aj=Student(\"ajay\",\"master\")"
      ],
      "metadata": {
        "id": "qaiRBdjNsW-e"
      },
      "execution_count": 23,
      "outputs": []
    },
    {
      "cell_type": "code",
      "source": [
        "class Student:\n",
        "    def __init__(self,name,degree):\n",
        "        self.name=name\n",
        "        self.__degree=degree\n",
        "\n",
        "    def show(self):\n",
        "        #iijkjkjk\n",
        "        print(\"name\",self.name,\"degree\",self.__degree)\n",
        "\n",
        "    def __privet_method(self):\n",
        "        print(\"this is a privet method\")\n",
        "\n",
        "    def ascess_privet_method(self):\n",
        "          self.__privet_method()"
      ],
      "metadata": {
        "id": "QG_KkE1xs-04"
      },
      "execution_count": 24,
      "outputs": []
    },
    {
      "cell_type": "code",
      "source": [
        "obj=Student(\"raja\", \"ba\")"
      ],
      "metadata": {
        "id": "Qsws4-QxtFQq"
      },
      "execution_count": 25,
      "outputs": []
    },
    {
      "cell_type": "markdown",
      "source": [
        "9. What is a constructor in Python?\n",
        "  - In Python, a constructor is a special method used to initialize the state of an object when it is created from a class.\n",
        "\n",
        "  - The Constructor Method: __init__()\n",
        "\n",
        "   - The constructor in Python is named __init__()\n",
        "\n",
        "   - It is called automatically when an object is instantiated.\n",
        "\n",
        "  - It is used to set initial values for object attributes."
      ],
      "metadata": {
        "id": "0F6e7ruvtSdL"
      }
    },
    {
      "cell_type": "code",
      "source": [
        "class Person:\n",
        "    def __init__(self, name, age):\n",
        "        self.name = name     # assigning values\n",
        "        self.age = age\n",
        "\n",
        "    def show(self):\n",
        "        print(f\"Name: {self.name}, Age: {self.age}\")\n",
        "\n",
        "# Creating an object\n",
        "p1 = Person(\"Alice\", 30)\n",
        "p1.show()\n"
      ],
      "metadata": {
        "colab": {
          "base_uri": "https://localhost:8080/"
        },
        "id": "k8Ybc2zmvCKd",
        "outputId": "87912d1a-51a6-4913-cd09-5236b0a3f770"
      },
      "execution_count": 26,
      "outputs": [
        {
          "output_type": "stream",
          "name": "stdout",
          "text": [
            "Name: Alice, Age: 30\n"
          ]
        }
      ]
    },
    {
      "cell_type": "markdown",
      "source": [
        "9. What are class and static methods in Python?\n",
        "#Class Method\n",
        "  - Defined using the @classmethod decorator.\n",
        "\n",
        "  - Takes cls (not self) as the first parameter.\n",
        "\n",
        "   - Can access and modify class-level data.\n",
        "\n",
        "   - Belongs to the class, not to any specific object.\n",
        "\n"
      ],
      "metadata": {
        "id": "qK7QIaQPvLbI"
      }
    },
    {
      "cell_type": "code",
      "source": [
        "class Employee:\n",
        "    company = \"OpenAI\"  # class variable\n",
        "\n",
        "    def __init__(self, name):\n",
        "        self.name = name\n",
        "\n",
        "    @classmethod\n",
        "    def change_company(cls, new_company):\n",
        "        cls.company = new_company\n",
        "\n",
        "e1 = Employee(\"Alice\")\n",
        "e2 = Employee(\"Bob\")\n",
        "\n",
        "print(Employee.company)  # OpenAI\n",
        "Employee.change_company(\"Google\")\n",
        "print(e1.company)        # Google\n"
      ],
      "metadata": {
        "colab": {
          "base_uri": "https://localhost:8080/"
        },
        "id": "vFDwPTx1wCZM",
        "outputId": "0ad35485-e424-4861-bd56-88a13beb26ec"
      },
      "execution_count": 28,
      "outputs": [
        {
          "output_type": "stream",
          "name": "stdout",
          "text": [
            "OpenAI\n",
            "Google\n"
          ]
        }
      ]
    },
    {
      "cell_type": "markdown",
      "source": [
        "#Static Method\n",
        "  - Defined using the @staticmethod decorator.\n",
        "\n",
        "  - Takes no special first argument (no self or cls).\n",
        "\n",
        "  - Cannot access or modify instance or class data.\n",
        "\n",
        "  - Behaves like a regular function, but is inside the class for logical      grouping."
      ],
      "metadata": {
        "id": "udPrXxecwOoA"
      }
    },
    {
      "cell_type": "code",
      "source": [
        "class MathUtils:\n",
        "    @staticmethod\n",
        "    def add(a, b):\n",
        "        return a + b\n",
        "\n",
        "print(MathUtils.add(5, 3))\n"
      ],
      "metadata": {
        "colab": {
          "base_uri": "https://localhost:8080/"
        },
        "id": "Kb6GByAswnVp",
        "outputId": "f4e76aa3-3fce-430a-c44f-88ee011f5583"
      },
      "execution_count": 29,
      "outputs": [
        {
          "output_type": "stream",
          "name": "stdout",
          "text": [
            "8\n"
          ]
        }
      ]
    },
    {
      "cell_type": "markdown",
      "source": [
        "11. What is method overloading in Python?\n",
        "  - Method Overloading means defining multiple methods with the same name but different parameters (like number or type)."
      ],
      "metadata": {
        "id": "vCPTxZZBw1vg"
      }
    },
    {
      "cell_type": "code",
      "source": [
        "class Greet:\n",
        "    def hello(self, name=\"Guest\"):\n",
        "        print(f\"Hello, {name}!\")\n",
        "\n",
        "g = Greet()\n",
        "g.hello()\n",
        "g.hello(\"sanjay\")\n"
      ],
      "metadata": {
        "colab": {
          "base_uri": "https://localhost:8080/"
        },
        "id": "UoS2aVZ4xkp_",
        "outputId": "b34ea105-840e-48eb-a5d0-2aa524a0ac83"
      },
      "execution_count": 30,
      "outputs": [
        {
          "output_type": "stream",
          "name": "stdout",
          "text": [
            "Hello, Guest!\n",
            "Hello, sanjay!\n"
          ]
        }
      ]
    },
    {
      "cell_type": "code",
      "source": [
        "class Math:\n",
        "    def add(self, *args):\n",
        "        return sum(args)\n",
        "\n",
        "m = Math()\n",
        "print(m.add(2, 3))             # Output: 5\n",
        "print(m.add(1, 2, 3, 4, 5))    # Output: 15\n"
      ],
      "metadata": {
        "colab": {
          "base_uri": "https://localhost:8080/"
        },
        "id": "d0xR0lgFyCQa",
        "outputId": "d5b4797d-28bb-4157-c860-c78b122b6353"
      },
      "execution_count": 31,
      "outputs": [
        {
          "output_type": "stream",
          "name": "stdout",
          "text": [
            "5\n",
            "15\n"
          ]
        }
      ]
    },
    {
      "cell_type": "markdown",
      "source": [
        "12.What is method overriding in OOP?\n",
        " - Method overriding in Object-Oriented Programming (OOP) is a feature that offers a subclass (child class) to provide a specific implementation of a method that is already defined in its superclass (parent class)."
      ],
      "metadata": {
        "id": "GteZIX8eyQQV"
      }
    },
    {
      "cell_type": "code",
      "source": [
        "class Animal:\n",
        "    def speak(self):\n",
        "        print(\"Animal speaks\")\n",
        "\n",
        "class Dog(Animal):\n",
        "    def speak(self):  # Overriding the speak method\n",
        "        print(\"Dog barks\")\n",
        "\n",
        "# Example usage\n",
        "a = Animal()\n",
        "a.speak()\n",
        "\n",
        "d = Dog()\n",
        "d.speak()\n"
      ],
      "metadata": {
        "colab": {
          "base_uri": "https://localhost:8080/"
        },
        "id": "93xgrR-6zipK",
        "outputId": "7e666c3b-fd07-48f8-eb36-088530f880b2"
      },
      "execution_count": 32,
      "outputs": [
        {
          "output_type": "stream",
          "name": "stdout",
          "text": [
            "Animal speaks\n",
            "Dog barks\n"
          ]
        }
      ]
    },
    {
      "cell_type": "markdown",
      "source": [
        "13. What is a property decorator in Python?\n",
        " - ChatGPT said:\n",
        "In Python, a property decorator (@property) is used to define a method in a class that behaves like an attribute, but allows you to add logic (code) behind getting, setting, or deleting the value — all while keeping the syntax simple and clean.\n",
        "\n"
      ],
      "metadata": {
        "id": "LFSQ0ddhz5sP"
      }
    },
    {
      "cell_type": "code",
      "source": [
        "class Person:\n",
        "    def __init__(self, name):\n",
        "        self._name = name\n",
        "\n",
        "    @property\n",
        "    def name(self):\n",
        "        print(\"Getting name...\")\n",
        "        return self._name\n"
      ],
      "metadata": {
        "id": "Hbazq3gd0WKY"
      },
      "execution_count": 33,
      "outputs": []
    },
    {
      "cell_type": "markdown",
      "source": [
        "14. Why is polymorphism important in OOP?\n",
        " - Polymorphism is important in Object-Oriented Programming (OOP) because it allows objects of different classes to be treated as objects of a common superclass. Here’s why it's important.\n",
        "\n",
        "#1. Code Reusability and Flexibility\n",
        "  - Polymorphism allows you to write generic code that works with objects of different types. This reduces code duplication and increases flexibility.\n",
        "\n",
        "#2. Simplified Code Maintenance\n",
        "  - Changes can be made in one place (e.g., a base class or interface), and all derived classes benefit automatically, making it easier to manage and extend code.\n",
        "\n"
      ],
      "metadata": {
        "id": "AcNAK9Jn0eZP"
      }
    },
    {
      "cell_type": "markdown",
      "source": [
        " 15. What is an abstract class in Python?\n",
        "\n",
        " - An abstract class in Python is a class that cannot be instantiated directly and is meant to be inherited by other classes. It is used to define a common interface or structure that subclasses must follow.\n",
        "\n",
        " - Python provides support for abstract classes through the abc (Abstract Base Classes) module."
      ],
      "metadata": {
        "id": "thfPa66U17vL"
      }
    },
    {
      "cell_type": "markdown",
      "source": [
        "16. What are the advantages of OOP?\n",
        "\n",
        " - Object-Oriented Programming (OOP) offers several key advantages that make it widely used in modern software development. Here's a clear and concise breakdown\n",
        "\n",
        "#1. Modularity\n",
        "  - Code is organized into classes and objects, making it easier to manage.\n",
        "\n",
        "  - Each class can be developed, tested, and debugged independently.\n",
        "\n",
        "#2. Reusability\n",
        "\n",
        "   - Through inheritance, you can create new classes based on existing ones.\n",
        "\n",
        "   - Reduces code duplication and speeds up development.\n",
        "\n",
        "#3. Encapsulation\n",
        "  - Data and methods are bundled together.\n",
        "\n",
        "  - Access to internal data is restricted, protecting it from unwanted changes.\n"
      ],
      "metadata": {
        "id": "wYa79-2j2WKO"
      }
    },
    {
      "cell_type": "markdown",
      "source": [
        "17. What is the difference between a class variable and an instance variable?\n",
        "  - The difference between a class variable and an instance variable in Python (or in most OOP languages) lies in how and where the variable is stored and shared.\n",
        "\n",
        "#1. Instance Variable\n",
        "  \n",
        "  - Defined inside a method (usually __init__) using self\n",
        "  - Unique to each object (instance) of the class\n",
        "  - Stores data that varies between instance\n",
        "\n",
        "#2. Class Variable\n",
        "\n",
        "  - Defined directly in the class body\n",
        "\n",
        "  - Shared among all instances of the class\n",
        "\n",
        "  - Stores data common to all instances\n"
      ],
      "metadata": {
        "id": "Z86aoFU53lpe"
      }
    },
    {
      "cell_type": "markdown",
      "source": [
        "18 What is multiple inheritance in Python?\n",
        "  - Multiple inheritance in Python is a feature where a class can inherit from more than one parent class."
      ],
      "metadata": {
        "id": "EmTHyyWS5ddI"
      }
    },
    {
      "cell_type": "code",
      "source": [
        "class Father:\n",
        "    def skills(self):\n",
        "        print(\"Gardening, Carpentry\")\n",
        "\n",
        "class Mother:\n",
        "    def skills(self):\n",
        "        print(\"Cooking, Painting\")\n",
        "\n",
        "# Child inherits from both Father and Mother\n",
        "class Child(Father, Mother):\n",
        "    pass\n",
        "\n",
        "c = Child()\n",
        "c.skills()\n"
      ],
      "metadata": {
        "colab": {
          "base_uri": "https://localhost:8080/"
        },
        "id": "T1Ep2XyV51dS",
        "outputId": "e973baf0-9b86-4676-bfdf-47c06dabd3a0"
      },
      "execution_count": 34,
      "outputs": [
        {
          "output_type": "stream",
          "name": "stdout",
          "text": [
            "Gardening, Carpentry\n"
          ]
        }
      ]
    },
    {
      "cell_type": "markdown",
      "source": [
        "19.: Explain the purpose of ‘’__str__’ and ‘__repr__’ ‘ methods in Python?\n",
        "\n",
        "# __str__ → Human-Readable Representation\n",
        "\n",
        " - Called by the str() function or when you print() an object.\n",
        "\n",
        " - Intended for end users — focuses on readability.\n",
        "\n",
        " - Should return a nicely formatted, descriptive string."
      ],
      "metadata": {
        "id": "fnPc-zXS6Lci"
      }
    },
    {
      "cell_type": "code",
      "source": [
        "class Book:\n",
        "    def __init__(self, title, author):\n",
        "        self.title = title\n",
        "        self.author = author\n",
        "\n",
        "    def __str__(self):\n",
        "        return f\"{self.title} by {self.author}\"\n",
        "\n",
        "b = Book(\"1984\", \"George Orwell\")\n",
        "print(b)  # Output: 1984 by George Orwell\n"
      ],
      "metadata": {
        "colab": {
          "base_uri": "https://localhost:8080/"
        },
        "id": "Zf2JAgMx7Frt",
        "outputId": "e16539f8-4305-4e39-bf5a-8279c7c1c25e"
      },
      "execution_count": 35,
      "outputs": [
        {
          "output_type": "stream",
          "name": "stdout",
          "text": [
            "1984 by George Orwell\n"
          ]
        }
      ]
    },
    {
      "cell_type": "markdown",
      "source": [
        "#__repr__ → Developer-Oriented (Official) Representation\n",
        " - Called by the repr() function, or when you just type the object in an interactive shell.\n",
        "\n",
        " - Intended for debugging and development.\n",
        "\n",
        " - Should return a string that can recreate the object, or at least give full internal details."
      ],
      "metadata": {
        "id": "yaW09t_N7Jem"
      }
    },
    {
      "cell_type": "code",
      "source": [
        "class Book:\n",
        "    def __init__(self, title, author):\n",
        "        self.title = title\n",
        "        self.author = author\n",
        "\n",
        "    def __repr__(self):\n",
        "        return f\"Book('{self.title}', '{self.author}')\"\n",
        "\n",
        "b = Book(\"1984\", \"George Orwell\")\n",
        "print(repr(b))  # Output: Book('1984', 'George Orwell')\n"
      ],
      "metadata": {
        "colab": {
          "base_uri": "https://localhost:8080/"
        },
        "id": "I4wVjiAq7Yjv",
        "outputId": "915451eb-d13a-4e96-c33d-bb366d440541"
      },
      "execution_count": 36,
      "outputs": [
        {
          "output_type": "stream",
          "name": "stdout",
          "text": [
            "Book('1984', 'George Orwell')\n"
          ]
        }
      ]
    },
    {
      "cell_type": "markdown",
      "source": [
        "20. What is the significance of the ‘super()’ function in Python?\n",
        " - The super() function in Python is used to call methods from a parent (superclass) in a child (subclass). It is especially important in inheritance, including multiple inheritance, to ensure that the parent class methods are properly initialized or extended.\n",
        "\n",
        "#Key Purposes of super()\n",
        " - Access Parent Methods without hardcoding the parent class name.\n",
        "\n",
        " - Promotes maintainability, especially in large codebases.\n",
        "\n",
        " - Supports multiple inheritance via Python’s Method Resolution Order (MRO)"
      ],
      "metadata": {
        "id": "jPzZ47ui7hV0"
      }
    },
    {
      "cell_type": "code",
      "source": [
        "class Animal:\n",
        "    def __init__(self, name):\n",
        "        self.name = name\n",
        "\n",
        "class Dog(Animal):\n",
        "    def __init__(self, name, breed):\n",
        "        super().__init__(name)  # Call Animal's __init__\n",
        "        self.breed = breed\n",
        "\n",
        "d = Dog(\"Buddy\", \"Labrador\")\n",
        "print(d.name)   # Buddy\n",
        "print(d.breed)  # Labrador\n"
      ],
      "metadata": {
        "colab": {
          "base_uri": "https://localhost:8080/"
        },
        "id": "aK7qTk4n8KyH",
        "outputId": "4e3ef478-f01c-4d41-a0f4-1968da4f6869"
      },
      "execution_count": 37,
      "outputs": [
        {
          "output_type": "stream",
          "name": "stdout",
          "text": [
            "Buddy\n",
            "Labrador\n"
          ]
        }
      ]
    },
    {
      "cell_type": "markdown",
      "source": [
        "21. What is the significance of the __del__ method in Python?\n",
        "# __del__ Method in Python — Explained\n",
        " - The __del__ method in Python is a special method known as a destructor. It is called automatically when an object is about to be destroyed (garbage collected)."
      ],
      "metadata": {
        "id": "LGWhk3nT8UrR"
      }
    },
    {
      "cell_type": "code",
      "source": [
        "class FileHandler:\n",
        "    def __init__(self, filename):\n",
        "        self.file = open(filename, 'w')\n",
        "\n",
        "    def __del__(self):\n",
        "        print(\"Closing file...\")\n",
        "        self.file.close()\n",
        "\n",
        "handler = FileHandler(\"example.txt\")\n",
        "# When handler is deleted or program ends, __del__ is called\n"
      ],
      "metadata": {
        "id": "IYytBL6r82vt"
      },
      "execution_count": 38,
      "outputs": []
    },
    {
      "cell_type": "markdown",
      "source": [
        "22. What is the difference between @staticmethod and @classmethod in Python?\n",
        " -\n",
        "Great question! Both @staticmethod and @classmethod are decorators in Python used to define methods inside a class, but they differ in how they work and what they can access.\n",
        "# @staticmethod\n",
        " - Does NOT receive an implicit first argument (no self or cls)\n",
        "\n",
        " - Behaves like a regular function but lives inside the class’s namespace\n",
        "\n",
        " - Cannot access or modify class state or instance state\n",
        "\n",
        " - Used when a method logically belongs to a class but doesn’t need access to instance or class data"
      ],
      "metadata": {
        "id": "7e3pPkHQ8-h9"
      }
    },
    {
      "cell_type": "code",
      "source": [
        "class Math:\n",
        "    @staticmethod\n",
        "    def add(x, y):\n",
        "        return x + y\n",
        "\n",
        "print(Math.add(5, 3))  # Output: 8\n"
      ],
      "metadata": {
        "colab": {
          "base_uri": "https://localhost:8080/"
        },
        "id": "PdNCaUtB9qXr",
        "outputId": "b13259a8-a334-44df-d32b-cab06e1f2f29"
      },
      "execution_count": 39,
      "outputs": [
        {
          "output_type": "stream",
          "name": "stdout",
          "text": [
            "8\n"
          ]
        }
      ]
    },
    {
      "cell_type": "markdown",
      "source": [
        "23.  How does polymorphism work in Python with inheritance?\n",
        " - Polymorphism means “many forms” — in OOP, it allows different classes to be treated through the same interface, and their specific implementations will be used automatically."
      ],
      "metadata": {
        "id": "I0oP2cWb9zwG"
      }
    },
    {
      "cell_type": "code",
      "source": [
        "class Animal:\n",
        "    def sound(self):\n",
        "        print(\"Some generic sound\")\n",
        "\n",
        "class Dog(Animal):\n",
        "    def sound(self):\n",
        "        print(\"Woof!\")\n",
        "\n",
        "class Cat(Animal):\n",
        "    def sound(self):\n",
        "        print(\"Meow!\")\n",
        "\n",
        "# Polymorphism in action\n",
        "def make_animal_sound(animal):\n",
        "    animal.sound()  # Calls the method based on the actual object type\n",
        "\n",
        "dog = Dog()\n",
        "cat = Cat()\n",
        "\n",
        "make_animal_sound(dog)  # Output: Woof!\n",
        "make_animal_sound(cat)  # Output: Meow!\n"
      ],
      "metadata": {
        "colab": {
          "base_uri": "https://localhost:8080/"
        },
        "id": "40T2AST1-TAK",
        "outputId": "6e8a7c0b-b1b5-4cbf-ac29-0a92e1d69cc4"
      },
      "execution_count": 40,
      "outputs": [
        {
          "output_type": "stream",
          "name": "stdout",
          "text": [
            "Woof!\n",
            "Meow!\n"
          ]
        }
      ]
    },
    {
      "cell_type": "markdown",
      "source": [
        "24. What is method chaining in Python OOP?\n",
        "\n",
        " - Method chaining is a programming technique where multiple methods are called on the same object in a single line, one after another. Each method returns the object itself (self), allowing the next method to be called immediately.\n",
        "\n",
        "#Why Use Method Chaining?\n",
        " - Improves code readability\n",
        "\n",
        " - Creates a fluent interface\n",
        "\n",
        " - Reduces repetitive object references"
      ],
      "metadata": {
        "id": "GuCRzdEU-m-j"
      }
    },
    {
      "cell_type": "markdown",
      "source": [
        "25. What is the purpose of the __call__ method in Python?\n",
        " - The __call__ method in Python is a special (dunder) method that allows an instance of a class to be called like a function.\n",
        "\n",
        "#Purpose:\n",
        " - The __call__ method makes an object callable. This means that after defining __call__, you can use object() syntax on an instance of a class—just like you would call a function.\n"
      ],
      "metadata": {
        "id": "iOf33jBA_3j-"
      }
    },
    {
      "cell_type": "code",
      "source": [
        "class MyClass:\n",
        "    def __call__(self, *args, **kwargs):\n",
        "        # Code to execute when the instance is called\n",
        "        print(\"Called with:\", args, kwargs)\n"
      ],
      "metadata": {
        "id": "rDCO-uBQDSXr"
      },
      "execution_count": null,
      "outputs": []
    },
    {
      "cell_type": "markdown",
      "source": [
        "#      practical"
      ],
      "metadata": {
        "id": "M3XT4ZYrDY6W"
      }
    },
    {
      "cell_type": "code",
      "source": [
        "'''\n",
        "1. Create a parent class Animal with a method speak() that prints a generic message. Create a child class Dog\n",
        "that overrides the speak() method to print \"Bark!\".\n",
        "'''\n",
        "# Parent class\n",
        "class Animal:\n",
        "    def speak(self):\n",
        "        print(\"The animal makes a sound.\")\n",
        "\n",
        "# Child class\n",
        "class Dog(Animal):\n",
        "    def speak(self):\n",
        "        print(\"Bark!\")\n",
        "\n",
        "# Example usage\n",
        "a = Animal()\n",
        "a.speak()  # Output: The animal makes a sound.\n",
        "\n",
        "d = Dog()\n",
        "d.speak()  # Output: Bark!\n"
      ],
      "metadata": {
        "colab": {
          "base_uri": "https://localhost:8080/"
        },
        "id": "miJCL4z0Dhfj",
        "outputId": "8ab7a735-1a0b-4ea6-af54-ebd132521af8"
      },
      "execution_count": 43,
      "outputs": [
        {
          "output_type": "stream",
          "name": "stdout",
          "text": [
            "The animal makes a sound.\n",
            "Bark!\n"
          ]
        }
      ]
    },
    {
      "cell_type": "code",
      "source": [
        "'''\n",
        "2. Write a program to create an abstract class Shape with a method area(). Derive classes Circle and Rectangle\n",
        "from it and implement the area() method in both.\n",
        "'''\n",
        "from abc import ABC, abstractmethod\n",
        "import math\n",
        "\n",
        "# Abstract base class\n",
        "class Shape(ABC):\n",
        "    @abstractmethod\n",
        "    def area(self):\n",
        "        pass\n",
        "\n",
        "# Derived class for Circle\n",
        "class Circle(Shape):\n",
        "    def __init__(self, radius):\n",
        "        self.radius = radius\n",
        "\n",
        "    def area(self):\n",
        "        return math.pi * self.radius ** 2\n",
        "\n",
        "# Derived class for Rectangle\n",
        "class Rectangle(Shape):\n",
        "    def __init__(self, width, height):\n",
        "        self.width = width\n",
        "        self.height = height\n",
        "\n",
        "    def area(self):\n",
        "        return self.width * self.height\n",
        "\n",
        "# Example usage\n",
        "circle = Circle(5)\n",
        "rectangle = Rectangle(4, 6)\n",
        "\n",
        "print(f\"Area of circle: {circle.area():.2f}\")      # Output: Area of circle: 78.54\n",
        "print(f\"Area of rectangle: {rectangle.area()}\")    # Output: Area of rectangle: 24\n"
      ],
      "metadata": {
        "colab": {
          "base_uri": "https://localhost:8080/"
        },
        "id": "6JnfiQOAExgR",
        "outputId": "2c93bfe8-8987-4271-c577-624bd92cdb69"
      },
      "execution_count": 44,
      "outputs": [
        {
          "output_type": "stream",
          "name": "stdout",
          "text": [
            "Area of circle: 78.54\n",
            "Area of rectangle: 24\n"
          ]
        }
      ]
    },
    {
      "cell_type": "code",
      "source": [
        "'''\n",
        "3. Implement a multi-level inheritance scenario where a class Vehicle has an attribute type. Derive a class Car\n",
        "and further derive a class ElectricCar that adds a battery attribute.\n",
        "'''\n",
        "# Base class\n",
        "class Vehicle:\n",
        "    def __init__(self, vehicle_type):\n",
        "        self.type = vehicle_type\n",
        "\n",
        "    def display_type(self):\n",
        "        print(f\"Vehicle type: {self.type}\")\n",
        "\n",
        "# Derived class\n",
        "class Car(Vehicle):\n",
        "    def __init__(self, vehicle_type, brand):\n",
        "        super().__init__(vehicle_type)\n",
        "        self.brand = brand\n"
      ],
      "metadata": {
        "id": "yi3jXvQ7FIFx"
      },
      "execution_count": 45,
      "outputs": []
    },
    {
      "cell_type": "code",
      "source": [
        "'''\n",
        "4. Demonstrate polymorphism by creating a base class Bird with a method fly(). Create two derived classes\n",
        "Sparrow and Penguin that override the fly() method.\n",
        "'''\n",
        "# Base class\n",
        "class Bird:\n",
        "    def fly(self):\n",
        "        print(\"Some bird is flying.\")\n",
        "\n",
        "# Derived class\n",
        "class Sparrow(Bird):\n",
        "    def fly(self):\n",
        "        print(\"Sparrow flies high in the sky.\")\n",
        "\n",
        "# Derived class\n",
        "class Penguin(Bird):\n",
        "    def fly(self):\n",
        "        print(\"Penguins can't fly but they swim well.\")\n",
        "\n",
        "# Function demonstrating polymorphism\n",
        "def bird_flight(bird):\n",
        "    bird.fly()\n",
        "\n",
        "# Example usage\n",
        "b1 = Sparrow()\n",
        "b2 = Penguin()\n",
        "\n",
        "bird_flight(b1)  # Output: Sparrow flies high in the sky.\n",
        "bird_flight(b2)  # Output: Penguins can't fly but they swim well.\n"
      ],
      "metadata": {
        "colab": {
          "base_uri": "https://localhost:8080/"
        },
        "id": "zsCshJCSFkgr",
        "outputId": "484e98e8-4ecc-439b-f516-377618808a33"
      },
      "execution_count": 46,
      "outputs": [
        {
          "output_type": "stream",
          "name": "stdout",
          "text": [
            "Sparrow flies high in the sky.\n",
            "Penguins can't fly but they swim well.\n"
          ]
        }
      ]
    },
    {
      "cell_type": "code",
      "source": [
        "'''\n",
        "5. Write a program to demonstrate encapsulation by creating a class BankAccount with private attributes\n",
        "balance and methods to deposit, withdraw, and check balance\n",
        "'''\n",
        "class BankAccount:\n",
        "    def __init__(self, initial_balance=0):\n",
        "        self.__balance = initial_balance  # Private attribute\n",
        "\n",
        "    def deposit(self, amount):\n",
        "        if amount > 0:\n",
        "            self.__balance += amount\n",
        "            print(f\"Deposited: ${amount}\")\n",
        "        else:\n",
        "            print(\"Deposit amount must be positive.\")\n",
        "\n",
        "    def withdraw(self, amount):\n",
        "        if 0 < amount <= self.__balance:\n",
        "            self.__balance -= amount\n",
        "            print(f\"Withdrew: ${amount}\")\n",
        "        else:\n",
        "            print(\"Invalid withdrawal amount or insufficient funds.\")\n",
        "\n",
        "    def check_balance(self):\n",
        "        print(f\"Current balance: ${self.__balance}\")\n",
        "\n",
        "# Example usage\n",
        "account = BankAccount(100)\n",
        "account.check_balance()   # Output: Current balance: $100\n",
        "\n",
        "account.deposit(50)       # Output: Deposited: $50\n",
        "account.check_balance()   # Output: Current balance: $150\n",
        "\n",
        "account.withdraw(70)      # Output: Withdrew: $70\n",
        "account.check_balance()   # Output: Current balance: $80\n",
        "\n",
        "# Trying to access private attribute directly (not recommended)\n",
        "# print(account.__balance)  # This will raise an AttributeError\n"
      ],
      "metadata": {
        "colab": {
          "base_uri": "https://localhost:8080/"
        },
        "id": "AjqYX-bmF5U8",
        "outputId": "aad80dca-2458-4f0a-dd71-511b6b7b671b"
      },
      "execution_count": 47,
      "outputs": [
        {
          "output_type": "stream",
          "name": "stdout",
          "text": [
            "Current balance: $100\n",
            "Deposited: $50\n",
            "Current balance: $150\n",
            "Withdrew: $70\n",
            "Current balance: $80\n"
          ]
        }
      ]
    },
    {
      "cell_type": "code",
      "source": [
        "'''\n",
        "6. Demonstrate runtime polymorphism using a method play() in a base class Instrument. Derive classes Guitar\n",
        "and Piano that implement their own version of play().\n",
        "'''\n",
        "# Base class\n",
        "class Instrument:\n",
        "    def play(self):\n",
        "        print(\"Playing an instrument.\")\n",
        "\n",
        "# Derived class\n",
        "class Guitar(Instrument):\n",
        "    def play(self):\n",
        "        print(\"Strumming the guitar.\")\n",
        "\n",
        "# Derived class\n",
        "class Piano(Instrument):\n",
        "    def play(self):\n",
        "        print(\"Playing the piano keys.\")\n",
        "\n",
        "# Function demonstrating runtime polym\n"
      ],
      "metadata": {
        "id": "wZ0vorUXGX4p"
      },
      "execution_count": 51,
      "outputs": []
    },
    {
      "cell_type": "code",
      "source": [
        "'''\n",
        "7. Create a class MathOperations with a class method add_numbers() to add two numbers and a static\n",
        "method subtract_numbers() to subtract two numbers.\n",
        "'''\n",
        "class MathOperations:\n",
        "    @classmethod\n",
        "    def add_numbers(cls, a, b):\n",
        "        return a + b\n",
        "\n",
        "    @staticmethod\n",
        "    def subtract_numbers(a, b):\n",
        "        return a - b\n",
        "\n",
        "# Example usage\n",
        "sum_result = MathOperations.add_numbers(10, 5)\n",
        "print(f\"Sum: {sum_result}\")  # Output: Sum: 15\n",
        "\n",
        "diff_result = MathOperations.subtract_numbers(10, 5)\n",
        "print(f\"Difference: {diff_result}\")  # Output: Difference: 5\n"
      ],
      "metadata": {
        "colab": {
          "base_uri": "https://localhost:8080/"
        },
        "id": "NqdKKATGGw6N",
        "outputId": "b703b976-c54b-484c-9d98-ecea55cd9644"
      },
      "execution_count": 49,
      "outputs": [
        {
          "output_type": "stream",
          "name": "stdout",
          "text": [
            "Sum: 15\n",
            "Difference: 5\n"
          ]
        }
      ]
    },
    {
      "cell_type": "code",
      "source": [
        "'''\n",
        "8. Implement a class Person with a class method to count the total number of persons created.\n",
        "'''\n",
        "class Person:\n",
        "    count = 0  # Class variable to count number of persons\n",
        "\n",
        "    def __init__(self, name):\n",
        "        self.name = name\n",
        "        Person.count += 1\n",
        "\n",
        "    @classmethod\n",
        "    def total_persons(cls):\n",
        "        return cls.count\n",
        "\n",
        "# Exam\n"
      ],
      "metadata": {
        "id": "q_A3gMIiHDTm"
      },
      "execution_count": 53,
      "outputs": []
    },
    {
      "cell_type": "code",
      "source": [
        "'''\n",
        "9. Write a class Fraction with attributes numerator and denominator. Override the str method to display the\n",
        "fraction as \"numerator/denominator\".\n",
        "'''\n",
        "class Fraction:\n",
        "    def __init__(self, numerator, denominator):\n",
        "        self.numerator = numerator\n",
        "        self.denominator = denominator\n",
        "\n",
        "    def __str__(self):\n",
        "        return f\"{self.numerator}/{self.denominator}\"\n",
        "\n",
        "# Example usage\n",
        "f1 = Fraction(3, 4)\n",
        "f2 = Fraction(7, 2)\n",
        "\n",
        "print(f1)  # Output: 3/4\n",
        "print(f2)  # Output: 7/2\n"
      ],
      "metadata": {
        "colab": {
          "base_uri": "https://localhost:8080/"
        },
        "id": "znsicHaPHV3I",
        "outputId": "bfe3cd88-1f2f-4c07-ff75-7a9d2d979140"
      },
      "execution_count": 54,
      "outputs": [
        {
          "output_type": "stream",
          "name": "stdout",
          "text": [
            "3/4\n",
            "7/2\n"
          ]
        }
      ]
    },
    {
      "cell_type": "code",
      "source": [
        "'''\n",
        "10. Demonstrate operator overloading by creating a class Vector and overriding the add method to add two\n",
        "vectors.\n",
        "'''\n",
        "class Vector:\n",
        "    def __init__(self, x, y):\n",
        "        self.x = x\n",
        "        self.y = y\n",
        "\n",
        "    def __add__(self, other):\n",
        "        if isinstance(other, Vector):\n",
        "            return Vector(self.x + other.x, self.y + other.y)\n",
        "        return NotImplemented\n",
        "\n",
        "    def __str__(self):\n",
        "        return f\"Vector({self.x}, {self.y})\"\n",
        "\n",
        "# Example usage\n",
        "v1 = Vector(2, 3)\n",
        "v2 = Vector(4, 1)\n",
        "v3 = v1 + v2  # Operator overloading in action\n",
        "\n",
        "print(v1)  # Output: Vector(2, 3)\n",
        "print(v2)  # Output: Vector(4, 1)\n",
        "print(v3)  # Output: Vector(6, 4)\n"
      ],
      "metadata": {
        "colab": {
          "base_uri": "https://localhost:8080/"
        },
        "id": "1vpQd2uNHo7A",
        "outputId": "51a0a273-11f6-466f-b9a8-af044f413546"
      },
      "execution_count": 57,
      "outputs": [
        {
          "output_type": "stream",
          "name": "stdout",
          "text": [
            "Vector(2, 3)\n",
            "Vector(4, 1)\n",
            "Vector(6, 4)\n"
          ]
        }
      ]
    },
    {
      "cell_type": "code",
      "source": [
        "'''\n",
        "11. Create a class Person with attributes name and age. Add a method greet() that prints \"Hello, my name is\n",
        "{name} and I am {age} years old.\"\n",
        "'''\n",
        "class Person:\n",
        "    def __init__(self, name, age):\n",
        "        self.name = name\n",
        "        self.age = age\n",
        "\n",
        "    def greet(self):\n",
        "        print(f\"Hello, my name is {self.name} and I am {self.age} years old.\")\n",
        "\n",
        "# Example usage\n",
        "p1 = Person(\"Alice\", 30)\n",
        "p2 = Person(\"Bob\", 25)\n",
        "\n",
        "p1.greet()\n",
        "p2.greet()\n"
      ],
      "metadata": {
        "colab": {
          "base_uri": "https://localhost:8080/"
        },
        "id": "oqcwSFzOIM7U",
        "outputId": "a532297c-e72c-4a74-ec90-aa66b1c51e78"
      },
      "execution_count": 58,
      "outputs": [
        {
          "output_type": "stream",
          "name": "stdout",
          "text": [
            "Hello, my name is Alice and I am 30 years old.\n",
            "Hello, my name is Bob and I am 25 years old.\n"
          ]
        }
      ]
    },
    {
      "cell_type": "code",
      "source": [
        "'''\n",
        "12. Implement a class Student with attributes name and grades. Create a method average_grade() to compute\n",
        "the average of the grades.\n",
        "'''\n",
        "class Student:\n",
        "    def __init__(self, name, grades):\n",
        "        self.name = name\n",
        "        self.grades = grades  # Should be a list of numbers\n",
        "\n",
        "    def average_grade(self):\n",
        "        if not self.grades:\n",
        "            return 0\n",
        "        return sum(self.grades) / len(self.grades)\n",
        "\n",
        "# Example usage\n",
        "s1 = Student(\"Alice\", [85, 90, 78])\n",
        "s2 = Student(\"Bob\", [92, 88])\n",
        "\n",
        "print(f\"{s1.name}'s average grade: {s1.average_grade():.2f}\")  # Output: Alice's average grade: 84.33\n",
        "print(f\"{s2.name}'s average grade: {s2.average_grade():.2f}\")  # Output: Bob's average grade: 90.00\n",
        "\n"
      ],
      "metadata": {
        "colab": {
          "base_uri": "https://localhost:8080/"
        },
        "id": "ogRBQXMcInyi",
        "outputId": "ba7eadc4-f3b2-4351-82d0-d1e2eec7b24a"
      },
      "execution_count": 60,
      "outputs": [
        {
          "output_type": "stream",
          "name": "stdout",
          "text": [
            "Alice's average grade: 84.33\n",
            "Bob's average grade: 90.00\n"
          ]
        }
      ]
    },
    {
      "cell_type": "code",
      "source": [
        "'''\n",
        "13. Create a class Rectangle with methods set_dimensions() to set the dimensions and area() to calculate the\n",
        "area.\n",
        "'''\n",
        "class Rectangle:\n",
        "    def __init__(self):\n",
        "        self.width = 0\n",
        "        self.height = 0\n",
        "\n",
        "    def set_dimensions(self, width, height):\n",
        "        self.width = width\n",
        "        self.height = height\n",
        "\n",
        "    def area(self):\n",
        "        return self.width * self.height\n",
        "\n",
        "# Example usage\n",
        "rect = Rectangle()\n",
        "rect.set_dimensions(5, 3)\n",
        "\n",
        "print(f\"Area of rectangle: {rect.area()}\")  # Output: Area of rectangle: 15\n"
      ],
      "metadata": {
        "colab": {
          "base_uri": "https://localhost:8080/"
        },
        "id": "0CcDRhmvJFaX",
        "outputId": "81efae02-7d9c-476c-f40b-cd92422324d2"
      },
      "execution_count": 61,
      "outputs": [
        {
          "output_type": "stream",
          "name": "stdout",
          "text": [
            "Area of rectangle: 15\n"
          ]
        }
      ]
    },
    {
      "cell_type": "code",
      "source": [
        "'''\n",
        "14. Create a class Employee with a method calculate_salary() that computes the salary based on hours worked\n",
        "and hourly rate. Create a derived class Manager that adds a bonus to the salary.\n",
        "'''\n",
        "# Base class\n",
        "class Employee:\n",
        "    def __init__(self, name, hours_worked, hourly_rate):\n",
        "        self.name = name\n",
        "        self.hours_worked = hours_worked\n",
        "        self.hourly_rate = hourly_rate\n",
        "\n",
        "    def calculate_salary(self):\n",
        "        return self.hours_worked * self.hourly_rate\n",
        "\n",
        "# Derived class\n",
        "class Manager(Employee):\n",
        "    def __init__(self, name, hours_worked, hourly_rate, bonus):\n",
        "        super().__init__(name, hours_worked, hourly_rate)\n",
        "        self.bonus = bonus\n",
        "\n",
        "    def calculate_salary(self):\n",
        "        base_salary = super().calculate_salary()\n",
        "        return base_salary + self.bonus\n",
        "\n",
        "# Example usage\n",
        "emp = Employee(\"Alice\", 40, 20)\n",
        "mgr = Manager(\"Bob\", 45, 30, 500)\n",
        "\n",
        "print(f\"{emp.name}'s salary: ${emp.calculate_salary()}\")   # Output: Alice's salary: $800\n",
        "print(f\"{mgr.name}'s salary: ${mgr.calculate_salary()}\")   # Output: Bob's salary: $1850\n"
      ],
      "metadata": {
        "colab": {
          "base_uri": "https://localhost:8080/"
        },
        "id": "C0t31zZIJWAp",
        "outputId": "1350fbca-205f-4f30-d91a-187837800165"
      },
      "execution_count": 62,
      "outputs": [
        {
          "output_type": "stream",
          "name": "stdout",
          "text": [
            "Alice's salary: $800\n",
            "Bob's salary: $1850\n"
          ]
        }
      ]
    },
    {
      "cell_type": "code",
      "source": [
        "'''\n",
        "15. Create a class Product with attributes name, price, and quantity. Implement a method total_price() that\n",
        "calculates the total price of the product.\n",
        "'''\n",
        "class Product:\n",
        "    def __init__(self, name, price, quantity):\n",
        "        self.name = name\n",
        "        self.price = price        # Price per unit\n",
        "        self.quantity = quantity  # Number of units\n",
        "\n",
        "    def total_price(self):\n",
        "        return self.price * self.quantity\n",
        "\n",
        "# Example usage\n",
        "p1 = Product(\"Laptop\", 1000, 2)\n",
        "p2 = Product(\"Headphones\", 150, 3)\n",
        "\n",
        "print(f\"Total price for {p1.name}: ${p1.total_price()}\")      # Output: Total price for Laptop: $2000\n",
        "print(f\"Total price for {p2.name}: ${p2.total_price()}\")      # Output: Total price for Headphones: $450\n"
      ],
      "metadata": {
        "colab": {
          "base_uri": "https://localhost:8080/"
        },
        "id": "h6nn4m4yJuAF",
        "outputId": "9a9f5434-e83e-4eb3-dbbb-dda236653b1c"
      },
      "execution_count": 63,
      "outputs": [
        {
          "output_type": "stream",
          "name": "stdout",
          "text": [
            "Total price for Laptop: $2000\n",
            "Total price for Headphones: $450\n"
          ]
        }
      ]
    },
    {
      "cell_type": "code",
      "source": [
        "'''\n",
        "16. Create a class Animal with an abstract method sound(). Create two derived classes Cow and Sheep that\n",
        "implement the sound() method.\n",
        "'''\n",
        "from abc import ABC, abstractmethod\n",
        "\n",
        "# Abstract base class\n",
        "class Animal(ABC):\n",
        "    @abstractmethod\n",
        "    def sound(self):\n",
        "        pass\n",
        "\n",
        "# Derived class Cow\n",
        "class Cow(Animal):\n",
        "    def sound(self):\n",
        "        print(\"Moo\")\n",
        "\n",
        "# Derived class Sheep\n",
        "class Sheep(Animal):\n",
        "    def sound(self):\n",
        "        print(\"Baa\")\n",
        "\n",
        "# Example usage\n",
        "cow = Cow()\n",
        "sheep = Sheep()\n",
        "\n",
        "cow.sound()    # Output: Moo\n",
        "sheep.sound()  # Output: Baa\n"
      ],
      "metadata": {
        "colab": {
          "base_uri": "https://localhost:8080/"
        },
        "id": "M--vLt7GKCPL",
        "outputId": "3d39d5f5-66b4-4fb0-b8be-d5f98368a291"
      },
      "execution_count": 64,
      "outputs": [
        {
          "output_type": "stream",
          "name": "stdout",
          "text": [
            "Moo\n",
            "Baa\n"
          ]
        }
      ]
    },
    {
      "cell_type": "code",
      "source": [
        "'''\n",
        "17. Create a class Book with attributes title, author, and year_published. Add a method get_book_info() that\n",
        "returns a formatted string with the book's details\n",
        "'''\n",
        "class Book:\n",
        "    def __init__(self, title, author, year_published):\n",
        "        self.title = title\n",
        "        self.author = author\n",
        "        self.year_published = year_published\n",
        "\n",
        "    def get_book_info(self):\n",
        "        return f\"'{self.title}' by {self.author}, published in {self.year_published}\"\n",
        "\n",
        "# Example usage\n",
        "book = Book(\"1984\", \"Jayshanker Prasad\", 1949)\n",
        "print(book.get_book_info())\n",
        "# Output: '1984' by Jayshanker, published in 1949\n"
      ],
      "metadata": {
        "colab": {
          "base_uri": "https://localhost:8080/"
        },
        "id": "28ftOE20KfsM",
        "outputId": "9a7ae1c4-70cb-4837-aaa1-ac6330ea9c4a"
      },
      "execution_count": 66,
      "outputs": [
        {
          "output_type": "stream",
          "name": "stdout",
          "text": [
            "'1984' by Jayshanker Prasad, published in 1949\n"
          ]
        }
      ]
    },
    {
      "cell_type": "code",
      "source": [
        "'''\n",
        "18. Create a class House with attributes address and price. Create a derived class Mansion that adds an\n",
        "attribute number_of_rooms\n",
        "'''\n",
        "# Base class\n",
        "class House:\n",
        "    def __init__(self, address, price):\n",
        "        self.address = address\n",
        "        self.price = price\n",
        "\n",
        "# Derived class\n",
        "class Mansion(House):\n",
        "    def __init__(self, address, price, number_of_rooms):\n",
        "        super().__init__(address, price)\n",
        "        self.number_of_rooms = number_of_rooms\n",
        "\n",
        "# Example usage\n",
        "house = House(\"123 Elm Street\", 250000)\n",
        "mansion = Mansion(\"456 Oak Avenue\", 1500000, 10)\n",
        "\n",
        "print(f\"House address: {house.address}, Price: ${house.price}\")\n",
        "print(f\"Mansion address: {mansion.address}, Price: ${mansion.price}, Rooms: {mansion.number_of_rooms}\")\n"
      ],
      "metadata": {
        "colab": {
          "base_uri": "https://localhost:8080/"
        },
        "id": "VEt7xI4tLRky",
        "outputId": "ddcb9054-5da2-46e6-9332-f8ce456f8789"
      },
      "execution_count": 67,
      "outputs": [
        {
          "output_type": "stream",
          "name": "stdout",
          "text": [
            "House address: 123 Elm Street, Price: $250000\n",
            "Mansion address: 456 Oak Avenue, Price: $1500000, Rooms: 10\n"
          ]
        }
      ]
    },
    {
      "cell_type": "code",
      "source": [],
      "metadata": {
        "id": "i-DMn2HBLRSe"
      },
      "execution_count": null,
      "outputs": []
    }
  ]
}